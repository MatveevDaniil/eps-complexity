{
 "cells": [
  {
   "cell_type": "code",
   "execution_count": 1,
   "id": "b1cb587e",
   "metadata": {},
   "outputs": [],
   "source": [
    "import numpy as np\n",
    "from holder_exp_estimation import limit_A\n",
    "\n",
    "def x_sinuses(t: np.array) -> np.array:\n",
    "    w = 241, 251, 257, 263, 269, 271, 277, 281, 283, 293\n",
    "    x = np.zeros_like(t)\n",
    "    for w_i in w:\n",
    "        x += np.sin(w_i * t)\n",
    "    x_norm = np.max(abs(x))\n",
    "    return x / x_norm\n",
    "\n",
    "grid_steps = [0.01, 0.001, 0.0008, 0.0005, 0.0004, 0.0002, 0.0001, 0.00005, 0.00004, 0.00002, 0.00001]"
   ]
  },
  {
   "cell_type": "code",
   "execution_count": null,
   "id": "c3c81c7c",
   "metadata": {},
   "outputs": [],
   "source": [
    "A, B = limit_A(x_sinuses, grid_steps)"
   ]
  },
  {
   "cell_type": "code",
   "execution_count": null,
   "id": "5c5c3745",
   "metadata": {},
   "outputs": [],
   "source": [
    "import matplotlib.pyplot as plt\n",
    "\n",
    "x_p = -np.log10(grid_steps)\n",
    "plt.scatter(x_p, A,  label=r'-$ \\frac{\\hat{A}}{\\ln{n}}$', )\n",
    "plt.xlabel('$-\\log_{10}{h}$')\n",
    "plt.ylabel(r'$\\frac{-A}{\\ln{n}}$')\n",
    "plt.legend()\n",
    "plt.title('holder exponent through eps-complexity \\n  $range_x=[0, 120], h_j \\in [10^{-2}, 10^{-5}] $\\n $f(x)=\\sum_k \\sin{(w_k x)}$ \\n $w_k$ - primes from 241 to 293')\n",
    "plt.tight_layout()\n",
    "plt.savefig('./helder exponent for sin.png', dpi=300) \n",
    "plt.show()"
   ]
  }
 ],
 "metadata": {
  "kernelspec": {
   "display_name": "Python 3 (ipykernel)",
   "language": "python",
   "name": "python3"
  },
  "language_info": {
   "codemirror_mode": {
    "name": "ipython",
    "version": 3
   },
   "file_extension": ".py",
   "mimetype": "text/x-python",
   "name": "python",
   "nbconvert_exporter": "python",
   "pygments_lexer": "ipython3",
   "version": "3.11.1"
  }
 },
 "nbformat": 4,
 "nbformat_minor": 5
}
